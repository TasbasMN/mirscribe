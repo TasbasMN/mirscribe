{
 "cells": [
  {
   "cell_type": "code",
   "execution_count": null,
   "metadata": {},
   "outputs": [],
   "source": [
    "%cd ../..\n",
    "import pandas as pd\n"
   ]
  },
  {
   "cell_type": "code",
   "execution_count": null,
   "metadata": {},
   "outputs": [],
   "source": [
    "gff = \"data/mirna_coordinates/hsa.gff3.txt\"\n",
    "\n",
    "with open(gff, 'r') as file:\n",
    "    lines = [line.strip() for line in file if not line.startswith(\"#\")]\n",
    "\n",
    "# Split each line by tab to get the columns and then split the last column by \";\"\n",
    "columns = ['chromosome', 'source', 'type', 'start', 'end', 'score', 'strand', 'phase', 'attributes']\n",
    "data = [line.split('\\t') for line in lines]\n",
    "for i in range(len(data)):\n",
    "    attr_dict = dict(item.split(\"=\") for item in data[i][-1].split(\";\"))\n",
    "    data[i] = data[i][:-1] + list(attr_dict.values())\n",
    "\n",
    "# Create the DataFrame\n",
    "df = pd.DataFrame(data, columns=columns[:-1] + list(attr_dict.keys()))\n",
    "\n",
    "df.head()"
   ]
  },
  {
   "cell_type": "code",
   "execution_count": null,
   "metadata": {},
   "outputs": [],
   "source": [
    "# removing chr suffix\n",
    "df.chromosome = df.chromosome.str.replace(\"chr\", \"\")\n",
    "\n",
    "# dropping non-mature mirna transcripts\n",
    "df = df[df[\"type\"] == \"miRNA\"]\n",
    "\n",
    "# dropping irrelevant columns\n",
    "cols_to_drop = [\"source\", \"type\", \"score\", \"ID\", \"phase\", \"Derives_from\"]\n",
    "df.drop(columns=cols_to_drop, inplace=True)\n",
    "\n",
    "# renaming columns\n",
    "df.rename(columns={'chromosome': 'chr', 'Alias': 'mirna_accession', 'Name': 'mirna_name'}, inplace=True)\n",
    "\n",
    "# reordering columns\n",
    "df = df[[\"mirna_accession\", \"mirna_name\", 'chr', 'start', 'end', 'strand']]"
   ]
  },
  {
   "cell_type": "code",
   "execution_count": null,
   "metadata": {},
   "outputs": [],
   "source": [
    "df.to_csv(\"data/mirna_coordinates/grch38_coordinates.csv\", index=False)"
   ]
  }
 ],
 "metadata": {
  "kernelspec": {
   "display_name": "thesis-4DYweHFz-py3.11",
   "language": "python",
   "name": "python3"
  },
  "language_info": {
   "codemirror_mode": {
    "name": "ipython",
    "version": 3
   },
   "file_extension": ".py",
   "mimetype": "text/x-python",
   "name": "python",
   "nbconvert_exporter": "python",
   "pygments_lexer": "ipython3",
   "version": "3.11.5"
  },
  "orig_nbformat": 4
 },
 "nbformat": 4,
 "nbformat_minor": 2
}
