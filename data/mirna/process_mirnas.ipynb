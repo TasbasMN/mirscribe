{
 "cells": [
  {
   "cell_type": "code",
   "execution_count": 1,
   "metadata": {},
   "outputs": [],
   "source": [
    "import pandas as pd\n",
    "import editdistance"
   ]
  },
  {
   "cell_type": "code",
   "execution_count": 2,
   "metadata": {},
   "outputs": [],
   "source": [
    "def parse_fasta(file_path):\n",
    "    results = []\n",
    "    \n",
    "    with open(file_path, 'r') as file:\n",
    "        sequence = ''\n",
    "        header = ''\n",
    "        \n",
    "        for line in file:\n",
    "            line = line.strip()\n",
    "            \n",
    "            if line.startswith('>'):\n",
    "                if sequence:\n",
    "                    results.append((header, sequence))\n",
    "                    sequence = ''\n",
    "                \n",
    "                header = line[1:]\n",
    "            else:\n",
    "                sequence += line\n",
    "        \n",
    "        if sequence:\n",
    "            results.append((header, sequence))\n",
    "    \n",
    "    return results\n",
    "\n",
    "def reverse_complement_rna_to_dna(rna_sequence):\n",
    "    complement = {'A': 'T', 'U': 'A', 'C': 'G', 'G': 'C'}\n",
    "    reverse_seq = rna_sequence[::-1]\n",
    "    return ''.join(complement[base] for base in reverse_seq)\n",
    "\n",
    "def find_least_different_string(original_string, column, cache=None):\n",
    "    if cache is None:\n",
    "        cache = {}\n",
    "    min_distance = float('inf')\n",
    "    least_different_string = ''\n",
    "    for sequence in column:\n",
    "        if sequence in cache:\n",
    "            distance = cache[sequence]\n",
    "        else:\n",
    "            distance = editdistance.eval(original_string, sequence)\n",
    "            cache[sequence] = distance\n",
    "        if distance < min_distance:\n",
    "            min_distance = distance\n",
    "            least_different_string = sequence\n",
    "    return least_different_string"
   ]
  },
  {
   "cell_type": "code",
   "execution_count": 3,
   "metadata": {},
   "outputs": [],
   "source": [
    "mirbase = parse_fasta('mirbase_22.fa')\n",
    "\n",
    "#parse the mirbase list by splitting the elements and creating a new list with the desired format\n",
    "parsed_mirbase = [(parts[0], parts[1], item[1]) for item in mirbase for parts in [item[0].split(' ')]]\n",
    "\n",
    "mb_df = (pd.DataFrame(parsed_mirbase, columns=['mirna_name', 'mirna_accession', 'sequence'])\n",
    "         .query('mirna_name.str.startswith(\"hsa\")')\n",
    "         .assign(sequence= lambda x: x.sequence.apply(reverse_complement_rna_to_dna))\n",
    "         .sort_values(\"mirna_accession\")\n",
    "         .reset_index(drop=True)\n",
    "        )\n"
   ]
  },
  {
   "cell_type": "code",
   "execution_count": 4,
   "metadata": {},
   "outputs": [
    {
     "data": {
      "text/html": [
       "<div>\n",
       "<style scoped>\n",
       "    .dataframe tbody tr th:only-of-type {\n",
       "        vertical-align: middle;\n",
       "    }\n",
       "\n",
       "    .dataframe tbody tr th {\n",
       "        vertical-align: top;\n",
       "    }\n",
       "\n",
       "    .dataframe thead th {\n",
       "        text-align: right;\n",
       "    }\n",
       "</style>\n",
       "<table border=\"1\" class=\"dataframe\">\n",
       "  <thead>\n",
       "    <tr style=\"text-align: right;\">\n",
       "      <th></th>\n",
       "      <th>mirna_name</th>\n",
       "      <th>mirna_accession</th>\n",
       "      <th>sequence</th>\n",
       "      <th>conservation</th>\n",
       "    </tr>\n",
       "  </thead>\n",
       "  <tbody>\n",
       "    <tr>\n",
       "      <th>0</th>\n",
       "      <td>hsa-let-7a-5p</td>\n",
       "      <td>MIMAT0000062</td>\n",
       "      <td>AACTATACAACCTACTACCTCA</td>\n",
       "      <td>2</td>\n",
       "    </tr>\n",
       "    <tr>\n",
       "      <th>1</th>\n",
       "      <td>hsa-let-7b-5p</td>\n",
       "      <td>MIMAT0000063</td>\n",
       "      <td>AACCACACAACCTACTACCTCA</td>\n",
       "      <td>2</td>\n",
       "    </tr>\n",
       "    <tr>\n",
       "      <th>2</th>\n",
       "      <td>hsa-let-7c-5p</td>\n",
       "      <td>MIMAT0000064</td>\n",
       "      <td>AACCATACAACCTACTACCTCA</td>\n",
       "      <td>2</td>\n",
       "    </tr>\n",
       "    <tr>\n",
       "      <th>3</th>\n",
       "      <td>hsa-let-7d-5p</td>\n",
       "      <td>MIMAT0000065</td>\n",
       "      <td>AACTATGCAACCTACTACCTCT</td>\n",
       "      <td>2</td>\n",
       "    </tr>\n",
       "    <tr>\n",
       "      <th>4</th>\n",
       "      <td>hsa-let-7e-5p</td>\n",
       "      <td>MIMAT0000066</td>\n",
       "      <td>AACTATACAACCTCCTACCTCA</td>\n",
       "      <td>2</td>\n",
       "    </tr>\n",
       "  </tbody>\n",
       "</table>\n",
       "</div>"
      ],
      "text/plain": [
       "      mirna_name mirna_accession                sequence  conservation\n",
       "0  hsa-let-7a-5p    MIMAT0000062  AACTATACAACCTACTACCTCA             2\n",
       "1  hsa-let-7b-5p    MIMAT0000063  AACCACACAACCTACTACCTCA             2\n",
       "2  hsa-let-7c-5p    MIMAT0000064  AACCATACAACCTACTACCTCA             2\n",
       "3  hsa-let-7d-5p    MIMAT0000065  AACTATGCAACCTACTACCTCT             2\n",
       "4  hsa-let-7e-5p    MIMAT0000066  AACTATACAACCTCCTACCTCA             2"
      ]
     },
     "execution_count": 4,
     "metadata": {},
     "output_type": "execute_result"
    }
   ],
   "source": [
    "renaming_dict = {\n",
    "    \"Mature sequence\": \"sequence\",\n",
    "    \"Family Conservation?\": \"conservation\",\n",
    "    \"MiRBase Accession\": \"mirna_accession\"\n",
    "}\n",
    "\n",
    "ts_df = (pd.read_csv('targetscan_mirnas.txt', sep='\\t')\n",
    "         .rename(columns={'MiRBase ID': 'mirna_name'})\n",
    "         .query('mirna_name.str.startswith(\"hsa\")')\n",
    "         .drop([\"miR family\", \"Species ID\", \"Seed+m8\"], axis=1)\n",
    "         .iloc[:, [0,3,1,2 ]]\n",
    "         .rename(columns=renaming_dict)\n",
    "         .assign(sequence= lambda x: x.sequence.apply(reverse_complement_rna_to_dna))\n",
    "         .sort_values(\"mirna_accession\")\n",
    "         .reset_index(drop=True)\n",
    "         )\n",
    "\n",
    "ts_df.head()"
   ]
  },
  {
   "cell_type": "code",
   "execution_count": 5,
   "metadata": {},
   "outputs": [],
   "source": [
    "targetscan = ts_df[[\"mirna_accession\", \"conservation\"]]\n",
    "\n",
    "# writing conservation values\n",
    "df = mb_df.merge(targetscan, on='mirna_accession', how='left')"
   ]
  },
  {
   "cell_type": "code",
   "execution_count": 6,
   "metadata": {},
   "outputs": [],
   "source": [
    "# get mirnas without conservation\n",
    "big_mirnas = df.mirna_accession.unique()\n",
    "small_mirnas = targetscan.mirna_accession.unique()\n",
    "mask = df.mirna_accession.isin(set(big_mirnas) - set(small_mirnas))\n",
    "\n",
    "# assigning to a df\n",
    "conservations_to_calculate = (df[mask][[\"mirna_accession\", \"sequence\"]]\n",
    "                            .assign(conservation=None))\n",
    "\n",
    "# append least difference string column\n",
    "for i, row in conservations_to_calculate.iterrows():\n",
    "    \n",
    "    original_string = row[\"sequence\"]\n",
    "    \n",
    "    target_sequences = ts_df.sequence\n",
    "    \n",
    "    least_different_string = find_least_different_string(original_string, target_sequences)\n",
    "    \n",
    "    conservations_to_calculate.loc[i, \"least_different_string\"] = least_different_string\n",
    "    \n",
    "    \n",
    "# getting seq:conservation pairs from targetscan\n",
    "pair_dict = dict(zip(ts_df['sequence'], ts_df['conservation']))\n",
    "\n",
    "# appending conservation values of least_different_strings\n",
    "conservations_to_calculate['conservation'] = conservations_to_calculate['least_different_string'].map(pair_dict)\n",
    "\n",
    "# dropping rows with empty conservation\n",
    "df = df.dropna()\n",
    "\n",
    "# dropping extra cols & generating 6mer seeds\n",
    "df = df[[\"mirna_accession\", \"sequence\", \"conservation\"]]\n",
    "\n",
    "# drop least different strings\n",
    "conservations_to_calculate = conservations_to_calculate.drop(columns=\"least_different_string\")\n",
    "\n",
    "# concatenate\n",
    "df = pd.concat([df, conservations_to_calculate])\n"
   ]
  },
  {
   "cell_type": "code",
   "execution_count": 7,
   "metadata": {},
   "outputs": [
    {
     "data": {
      "text/plain": [
       "mirna_accession    0\n",
       "sequence           0\n",
       "conservation       0\n",
       "dtype: int64"
      ]
     },
     "execution_count": 7,
     "metadata": {},
     "output_type": "execute_result"
    }
   ],
   "source": [
    "df.isna().sum()"
   ]
  },
  {
   "cell_type": "code",
   "execution_count": 8,
   "metadata": {},
   "outputs": [
    {
     "data": {
      "text/html": [
       "<div>\n",
       "<style scoped>\n",
       "    .dataframe tbody tr th:only-of-type {\n",
       "        vertical-align: middle;\n",
       "    }\n",
       "\n",
       "    .dataframe tbody tr th {\n",
       "        vertical-align: top;\n",
       "    }\n",
       "\n",
       "    .dataframe thead th {\n",
       "        text-align: right;\n",
       "    }\n",
       "</style>\n",
       "<table border=\"1\" class=\"dataframe\">\n",
       "  <thead>\n",
       "    <tr style=\"text-align: right;\">\n",
       "      <th></th>\n",
       "      <th>mirna_accession</th>\n",
       "      <th>sequence</th>\n",
       "      <th>conservation</th>\n",
       "    </tr>\n",
       "  </thead>\n",
       "  <tbody>\n",
       "    <tr>\n",
       "      <th>0</th>\n",
       "      <td>MIMAT0000062</td>\n",
       "      <td>AACTATACAACCTACTACCTCA</td>\n",
       "      <td>2.0</td>\n",
       "    </tr>\n",
       "    <tr>\n",
       "      <th>1</th>\n",
       "      <td>MIMAT0000063</td>\n",
       "      <td>AACCACACAACCTACTACCTCA</td>\n",
       "      <td>2.0</td>\n",
       "    </tr>\n",
       "    <tr>\n",
       "      <th>2</th>\n",
       "      <td>MIMAT0000064</td>\n",
       "      <td>AACCATACAACCTACTACCTCA</td>\n",
       "      <td>2.0</td>\n",
       "    </tr>\n",
       "    <tr>\n",
       "      <th>3</th>\n",
       "      <td>MIMAT0000065</td>\n",
       "      <td>AACTATGCAACCTACTACCTCT</td>\n",
       "      <td>2.0</td>\n",
       "    </tr>\n",
       "    <tr>\n",
       "      <th>4</th>\n",
       "      <td>MIMAT0000066</td>\n",
       "      <td>AACTATACAACCTCCTACCTCA</td>\n",
       "      <td>2.0</td>\n",
       "    </tr>\n",
       "  </tbody>\n",
       "</table>\n",
       "</div>"
      ],
      "text/plain": [
       "  mirna_accession                sequence  conservation\n",
       "0    MIMAT0000062  AACTATACAACCTACTACCTCA           2.0\n",
       "1    MIMAT0000063  AACCACACAACCTACTACCTCA           2.0\n",
       "2    MIMAT0000064  AACCATACAACCTACTACCTCA           2.0\n",
       "3    MIMAT0000065  AACTATGCAACCTACTACCTCT           2.0\n",
       "4    MIMAT0000066  AACTATACAACCTCCTACCTCA           2.0"
      ]
     },
     "execution_count": 8,
     "metadata": {},
     "output_type": "execute_result"
    }
   ],
   "source": [
    "df.head()"
   ]
  },
  {
   "cell_type": "code",
   "execution_count": 9,
   "metadata": {},
   "outputs": [],
   "source": [
    "df.to_csv('mirna.csv', index=False)"
   ]
  }
 ],
 "metadata": {
  "kernelspec": {
   "display_name": "mirscribe-voCUYInh-py3.11",
   "language": "python",
   "name": "python3"
  },
  "language_info": {
   "codemirror_mode": {
    "name": "ipython",
    "version": 3
   },
   "file_extension": ".py",
   "mimetype": "text/x-python",
   "name": "python",
   "nbconvert_exporter": "python",
   "pygments_lexer": "ipython3",
   "version": "3.12.2"
  },
  "orig_nbformat": 4
 },
 "nbformat": 4,
 "nbformat_minor": 2
}
