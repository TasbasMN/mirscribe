{
 "cells": [
  {
   "cell_type": "code",
   "execution_count": 1,
   "metadata": {},
   "outputs": [
    {
     "name": "stdout",
     "output_type": "stream",
     "text": [
      "/run/media/nazif/2F946E411BA61D49/mirscribe\n"
     ]
    }
   ],
   "source": [
    "%cd ../../..\n"
   ]
  },
  {
   "cell_type": "code",
   "execution_count": 2,
   "metadata": {},
   "outputs": [
    {
     "name": "stderr",
     "output_type": "stream",
     "text": [
      "INFO:pyensembl.sequence_data:Loaded sequence dictionary from /run/media/nazif/2F946E411BA61D49/data/pyensembl/GRCh37/ensembl75/Homo_sapiens.GRCh37.75.cdna.all.fa.gz.pickle\n",
      "INFO:pyensembl.sequence_data:Loaded sequence dictionary from /run/media/nazif/2F946E411BA61D49/data/pyensembl/GRCh37/ensembl75/Homo_sapiens.GRCh37.75.ncrna.fa.gz.pickle\n",
      "INFO:pyensembl.sequence_data:Loaded sequence dictionary from /run/media/nazif/2F946E411BA61D49/data/pyensembl/GRCh37/ensembl75/Homo_sapiens.GRCh37.75.pep.all.fa.gz.pickle\n"
     ]
    }
   ],
   "source": [
    "import pandas as pd\n",
    "import concurrent.futures\n",
    "from scripts.utils import *\n",
    "from scripts.ensembl import *\n",
    "\n",
    "g37 = import_pyensembl(37)"
   ]
  },
  {
   "cell_type": "code",
   "execution_count": 3,
   "metadata": {},
   "outputs": [],
   "source": [
    "def get_transcript_id(coord):\n",
    "    if transcript_id := g37.transcript_ids_at_locus(*coord):\n",
    "        return tuple(coord), transcript_id\n",
    "    else:\n",
    "        return tuple(coord), \"not_found\""
   ]
  },
  {
   "cell_type": "code",
   "execution_count": 5,
   "metadata": {},
   "outputs": [
    {
     "data": {
      "text/plain": [
       "2.0"
      ]
     },
     "execution_count": 5,
     "metadata": {},
     "output_type": "execute_result"
    }
   ],
   "source": [
    "relevant_cols = [\"id\", \"chr\", \"start_coordinate\", \"end_coordinate\", \"mirna_accession\", \"is_mutated\", \"prediction\", \"binary_prediction\", \"pred_difference\", \"pred_difference_binary\"]\n",
    "filename = \"results/from_truba/vcf1_results_0_2000_with_prediction_only_meaningful_results\"\n",
    "\n",
    "df = pd.read_csv(f\"{filename}.csv\", low_memory=False, usecols=relevant_cols)"
   ]
  },
  {
   "cell_type": "code",
   "execution_count": 11,
   "metadata": {},
   "outputs": [],
   "source": [
    "import pandas as pd\n",
    "\n",
    "df['id'] = df['id'].str.replace('PD3851a', 'PD3851a_', regex=False)\n",
    "df['chr'] = df['chr'].str.replace('PD3851a', '', regex=False)\n",
    "\n"
   ]
  },
  {
   "cell_type": "code",
   "execution_count": 12,
   "metadata": {},
   "outputs": [
    {
     "data": {
      "text/html": [
       "<div>\n",
       "<style scoped>\n",
       "    .dataframe tbody tr th:only-of-type {\n",
       "        vertical-align: middle;\n",
       "    }\n",
       "\n",
       "    .dataframe tbody tr th {\n",
       "        vertical-align: top;\n",
       "    }\n",
       "\n",
       "    .dataframe thead th {\n",
       "        text-align: right;\n",
       "    }\n",
       "</style>\n",
       "<table border=\"1\" class=\"dataframe\">\n",
       "  <thead>\n",
       "    <tr style=\"text-align: right;\">\n",
       "      <th></th>\n",
       "      <th>mirna_accession</th>\n",
       "      <th>is_mutated</th>\n",
       "      <th>id</th>\n",
       "      <th>chr</th>\n",
       "      <th>start_coordinate</th>\n",
       "      <th>end_coordinate</th>\n",
       "      <th>prediction</th>\n",
       "      <th>binary_prediction</th>\n",
       "      <th>pred_difference</th>\n",
       "      <th>pred_difference_binary</th>\n",
       "      <th>ENST</th>\n",
       "    </tr>\n",
       "  </thead>\n",
       "  <tbody>\n",
       "    <tr>\n",
       "      <th>0</th>\n",
       "      <td>MIMAT0000069</td>\n",
       "      <td>0</td>\n",
       "      <td>PD3851a__10_103447203_C_A_MIMAT0000069</td>\n",
       "      <td>10</td>\n",
       "      <td>103447188</td>\n",
       "      <td>103447197</td>\n",
       "      <td>0.312751</td>\n",
       "      <td>0</td>\n",
       "      <td>0.328268</td>\n",
       "      <td>1</td>\n",
       "      <td>not_found</td>\n",
       "    </tr>\n",
       "    <tr>\n",
       "      <th>1</th>\n",
       "      <td>MIMAT0000069</td>\n",
       "      <td>1</td>\n",
       "      <td>PD3851a__10_103447203_C_A_MIMAT0000069</td>\n",
       "      <td>10</td>\n",
       "      <td>103447188</td>\n",
       "      <td>103447197</td>\n",
       "      <td>0.641019</td>\n",
       "      <td>1</td>\n",
       "      <td>0.328268</td>\n",
       "      <td>1</td>\n",
       "      <td>not_found</td>\n",
       "    </tr>\n",
       "    <tr>\n",
       "      <th>2</th>\n",
       "      <td>MIMAT0000241</td>\n",
       "      <td>0</td>\n",
       "      <td>PD3851a__10_103447203_C_A_MIMAT0000241</td>\n",
       "      <td>10</td>\n",
       "      <td>103447202</td>\n",
       "      <td>103447215</td>\n",
       "      <td>0.793109</td>\n",
       "      <td>1</td>\n",
       "      <td>-0.602264</td>\n",
       "      <td>-1</td>\n",
       "      <td>not_found</td>\n",
       "    </tr>\n",
       "    <tr>\n",
       "      <th>3</th>\n",
       "      <td>MIMAT0000241</td>\n",
       "      <td>1</td>\n",
       "      <td>PD3851a__10_103447203_C_A_MIMAT0000241</td>\n",
       "      <td>10</td>\n",
       "      <td>103447173</td>\n",
       "      <td>103447193</td>\n",
       "      <td>0.190845</td>\n",
       "      <td>0</td>\n",
       "      <td>-0.602264</td>\n",
       "      <td>-1</td>\n",
       "      <td>not_found</td>\n",
       "    </tr>\n",
       "    <tr>\n",
       "      <th>4</th>\n",
       "      <td>MIMAT0000257</td>\n",
       "      <td>0</td>\n",
       "      <td>PD3851a__10_103447203_C_A_MIMAT0000257</td>\n",
       "      <td>10</td>\n",
       "      <td>103447210</td>\n",
       "      <td>103447222</td>\n",
       "      <td>0.434621</td>\n",
       "      <td>0</td>\n",
       "      <td>0.232544</td>\n",
       "      <td>1</td>\n",
       "      <td>not_found</td>\n",
       "    </tr>\n",
       "  </tbody>\n",
       "</table>\n",
       "</div>"
      ],
      "text/plain": [
       "  mirna_accession  is_mutated                                      id chr  \\\n",
       "0    MIMAT0000069           0  PD3851a__10_103447203_C_A_MIMAT0000069  10   \n",
       "1    MIMAT0000069           1  PD3851a__10_103447203_C_A_MIMAT0000069  10   \n",
       "2    MIMAT0000241           0  PD3851a__10_103447203_C_A_MIMAT0000241  10   \n",
       "3    MIMAT0000241           1  PD3851a__10_103447203_C_A_MIMAT0000241  10   \n",
       "4    MIMAT0000257           0  PD3851a__10_103447203_C_A_MIMAT0000257  10   \n",
       "\n",
       "   start_coordinate  end_coordinate  prediction  binary_prediction  \\\n",
       "0         103447188       103447197    0.312751                  0   \n",
       "1         103447188       103447197    0.641019                  1   \n",
       "2         103447202       103447215    0.793109                  1   \n",
       "3         103447173       103447193    0.190845                  0   \n",
       "4         103447210       103447222    0.434621                  0   \n",
       "\n",
       "   pred_difference  pred_difference_binary       ENST  \n",
       "0         0.328268                       1  not_found  \n",
       "1         0.328268                       1  not_found  \n",
       "2        -0.602264                      -1  not_found  \n",
       "3        -0.602264                      -1  not_found  \n",
       "4         0.232544                       1  not_found  "
      ]
     },
     "execution_count": 12,
     "metadata": {},
     "output_type": "execute_result"
    }
   ],
   "source": [
    "df.head()"
   ]
  },
  {
   "cell_type": "code",
   "execution_count": 13,
   "metadata": {},
   "outputs": [
    {
     "name": "stdout",
     "output_type": "stream",
     "text": [
      "51.562% of the coordinates have no transcripts\n"
     ]
    }
   ],
   "source": [
    "# adding ENST IDs\n",
    "\n",
    "coords = df[['chr', 'start_coordinate']].values.tolist()\n",
    "\n",
    "with concurrent.futures.ProcessPoolExecutor() as executor:\n",
    "    results = executor.map(get_transcript_id, coords)\n",
    "    \n",
    "ensts = dict(results)\n",
    "df[\"ENST\"] = [ensts.get((row[\"chr\"], row[\"start_coordinate\"]), \"\") for _, row in df.iterrows()]\n",
    "\n",
    "# report\n",
    "print(f\"{len(df[df.ENST == 'not_found']) / len(df):.3%} of the coordinates have no transcripts\")\n"
   ]
  },
  {
   "cell_type": "code",
   "execution_count": 14,
   "metadata": {},
   "outputs": [],
   "source": [
    "cols = [\"id\", \"mirna_accession\", \"ENST\", \"is_mutated\", \"pred_difference_binary\"]\n",
    "\n",
    "\n",
    "gain_df = df[cols][(df[cols].is_mutated == 0) & (df[cols].pred_difference_binary == 1)] \n",
    "loss_df = df[cols][(df[cols].is_mutated == 0) & (df[cols].pred_difference_binary == -1)] \n",
    "\n",
    "gain_df.drop(columns=[\"is_mutated\", \"pred_difference_binary\"], inplace=True)\n",
    "loss_df.drop(columns=[\"is_mutated\", \"pred_difference_binary\"], inplace=True)\n",
    "\n",
    "# remove the last 13 characters (MIMAT0000070 like identifiers)\n",
    "gain_df['id'] = gain_df['id'].str[:-13]\n",
    "loss_df['id'] = loss_df['id'].str[:-13]"
   ]
  },
  {
   "cell_type": "code",
   "execution_count": 15,
   "metadata": {},
   "outputs": [],
   "source": [
    "gain_df[\"gain\"] = 1\n",
    "gain_df[\"loss\"] = 0\n",
    "loss_df[\"gain\"] = 0\n",
    "loss_df[\"loss\"] = 1\n",
    "final_df = pd.concat([gain_df, loss_df], ignore_index=True)"
   ]
  },
  {
   "cell_type": "code",
   "execution_count": 16,
   "metadata": {},
   "outputs": [],
   "source": [
    "final_df.to_csv(\"results/from_truba/vcf1_results.csv\", index=False)"
   ]
  }
 ],
 "metadata": {
  "kernelspec": {
   "display_name": "mirscribe-voCUYInh-py3.11",
   "language": "python",
   "name": "python3"
  },
  "language_info": {
   "codemirror_mode": {
    "name": "ipython",
    "version": 3
   },
   "file_extension": ".py",
   "mimetype": "text/x-python",
   "name": "python",
   "nbconvert_exporter": "python",
   "pygments_lexer": "ipython3",
   "version": "3.11.5"
  },
  "orig_nbformat": 4
 },
 "nbformat": 4,
 "nbformat_minor": 2
}
