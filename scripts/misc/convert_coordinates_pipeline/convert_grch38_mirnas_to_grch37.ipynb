{
 "cells": [
  {
   "cell_type": "code",
   "execution_count": 1,
   "metadata": {},
   "outputs": [
    {
     "name": "stdout",
     "output_type": "stream",
     "text": [
      "/home/nazif/thesis/mirscribe\n"
     ]
    }
   ],
   "source": [
    "%cd ../../..\n"
   ]
  },
  {
   "cell_type": "code",
   "execution_count": null,
   "metadata": {},
   "outputs": [],
   "source": [
    "import pandas as pd\n",
    "from scripts.utils import *\n",
    "from scripts.ensembl import *\n",
    "\n",
    "hg38 = import_pyensembl(38)\n",
    "hg19 = import_pyensembl(37)"
   ]
  },
  {
   "cell_type": "code",
   "execution_count": null,
   "metadata": {},
   "outputs": [],
   "source": [
    "def read_gff_file(file_path):\n",
    "    # Read the gff file into a DataFrame\n",
    "    df = pd.read_csv(file_path, sep=\"\\t\", header=None)\n",
    "\n",
    "    # Create a rename dictionary\n",
    "    rename_dict = {\n",
    "        0: 'chr',\n",
    "        1: 'drop',\n",
    "        2: 'biotype',\n",
    "        3: 'start',\n",
    "        4: 'end',\n",
    "        5: 'drop2',\n",
    "        6: 'strand',\n",
    "        7: 'drop3',\n",
    "        8: 'other_data'\n",
    "    }\n",
    "\n",
    "    # Rename the columns based on the rename dictionary\n",
    "    df = df.rename(columns=rename_dict)\n",
    "\n",
    "    df[['id', 'alias', 'name', 'derives_from']] = (df[\"other_data\"].str.split(';', expand=True)\n",
    "                                                   .apply(lambda x:x.str.split('=', expand=True)[1]))\n",
    "\n",
    "    df['chr'] = df['chr'].str.replace('chr', '')\n",
    "\n",
    "    df.drop(columns=[\"drop\", \"drop2\", \"drop3\", \"other_data\"], inplace=True)\n",
    "\n",
    "    return df\n"
   ]
  },
  {
   "cell_type": "code",
   "execution_count": null,
   "metadata": {},
   "outputs": [],
   "source": [
    "raw = read_gff_file(\"scripts/convert_coordinates_pipeline/hsa.gff3\")\n",
    "converted_mirnas = read_gff_file(\"scripts/convert_coordinates_pipeline/hsa_mirnas_grch37.gff3\")\n",
    "non_converted_mirnas = read_gff_file(\"scripts/convert_coordinates_pipeline/hsa_mirnas_grch37.gff3.T99YAPR8.unmap\")\n",
    "mirbase = pd.read_csv(MIRNA_CSV)\n",
    "\n",
    "# dropping non-mature miRNA entries\n",
    "converted_mirnas = converted_mirnas.query(\"biotype == 'miRNA'\")\n",
    "non_converted_mirnas = non_converted_mirnas.query(\"biotype == 'miRNA'\")\n",
    "\n",
    "# dropping columns that are not needed in final file\n",
    "converted_mirnas = converted_mirnas[[\"alias\", \"name\", \"chr\", \"start\", \"end\", \"strand\"]]\n",
    "\n",
    "# adding MIMAT0027619 to converted mirnas because its position is in the same in both grch37 and grch38\n",
    "mirna = non_converted_mirnas.loc[1]\n",
    "converted_mirnas.loc[len(converted_mirnas)] = mirna\n",
    "\n",
    "# renaming\n",
    "rename_dict = {\n",
    "    \"alias\": \"mirna_accession\",\n",
    "    \"name\": \"mirna_name\"\n",
    "}\n",
    "converted_mirnas = converted_mirnas.rename(columns=rename_dict)\n",
    "\n",
    "# saving to csv\n",
    "converted_mirnas.to_csv(\"data/mirna_coordinates/grch37_coordinates.csv\", index=False)"
   ]
  }
 ],
 "metadata": {
  "kernelspec": {
   "display_name": "thesis-4DYweHFz-py3.11",
   "language": "python",
   "name": "python3"
  },
  "language_info": {
   "codemirror_mode": {
    "name": "ipython",
    "version": 3
   },
   "file_extension": ".py",
   "mimetype": "text/x-python",
   "name": "python",
   "nbconvert_exporter": "python",
   "pygments_lexer": "ipython3",
   "version": "3.12.2"
  },
  "orig_nbformat": 4
 },
 "nbformat": 4,
 "nbformat_minor": 2
}
